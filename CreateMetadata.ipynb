# Step 1: Import necessary modules  Topic Category
import os
import arcpy

# Step 2: User set gbd location
gdb_path = input("Enter the full path to the geodatabase, must end in .gdb: ")

# Step 3: Validate the gbd path, must include step 4 if testing
if not os.path.exists(gdb_path) or not gdb_path.endswith(".gdb"):
    raise ValueError("The path provided is not a valid file geodatabase")

#Step 4: If the path is valid set the workspace
arcpy.env.workspace = gdb_path
print(f"Workspace set to: {gdb_path}")

# Step 5: User set title, tags
metadata_title = input("Enter metadata title: ")
metadata_tags = input("Enter tags (comma-separated). Example: Map 24–04.0, Catawissa, artificial fill, alluvium, Valley heads terrace, Binghamton terrace, Colluvium,  : ")
metadata_summary = input("Enter summary: ")
metadata_description = input("Enter description: ")
metadata_credits = input("Enter metadata credits. Credits are normally Geologic mapping–GEOLOGIST NAME, Digital data compilation– GEOLOGIST NAME and GIS SUPPORT NAME, and GeMS data preparation–GIS SUPPORT NAME: ")
metadata_theme_keywords = input("Enter theme keywords. Example: ")
metadata_place_keywords = input("Enter place keywords. Example: ")
#metadata_other_details = input("Enter suggested citation. Example: ")

# Step 6: User Input
#Function to update the metadata title and tags
def update_metadata(item,title,tags,summary,description,credits,theme_keywords,place_keywords):
    try:
        #load metadata for the item
        metadata = arcpy.metadata.Metadata(item)
        #update the title field
        metadata.title = title
        #update tags field
        metadata.tags = tags
        #update the summary field
        metadata.summary = summary
        #update the description field
        metadata.description = description
        #update the credits field
        metadata.credits = credits
        
        
        #Modify XML for theme and place keywords
        metadata_xml = metadata.xml
        
        #add or update theme keywords
        theme_list = [keyword.strip() for keyword in theme_keywords.split(',')]
        place_list = [keyword.strip() for keyword in place_keywords.split(',')]
            
        #Access the dataset's metadata
        metadata = arcpy.metadata.Metadata(gdb_path)
        
        #Update theme and place keywords
        metadata.themeKeywords = theme_list
        metadata.placeKeywords = place_list
        
        #apply changes and save the updated xml
        metadata.xml = metadata_xml
        
        #save and sync updated metadata        
        metadata.save()
        metadata.synchronize("ALWAYS")
        print(f"Metadata updated for: {item}")
    except Exception as e:
        print(f"Error updating metadata for {item}: {e}")

# Update metadata at the gdb level
update_metadata(gdb_path,metadata_title,metadata_tags,metadata_summary,metadata_description,metadata_credits,metadata_theme_keywords,metadata_place_keywords)

#list and update metadata for feature datasets and their feature classes
feature_datasets = arcpy.ListDatasets(feature_type = 'Feature')
for dataset in feature_datasets:
    dataset_path = os.path.join(gdb_path, dataset)

    update_metadata(dataset_path,metadata_title,metadata_tags,metadata_summary,metadata_description,metadata_credits,metadata_theme_keywords,metadata_place_keywords)
    
# Set the workspace to the feature dataset to list its feature classes
    arcpy.env.workspace = dataset_path
    feature_classes = arcpy.ListFeatureClasses()
    
#Update the metadata for each feature class inside the dataset
for feature_class in feature_classes:
    feature_class_path = os.path.join(dataset_path, feature_class)
    
    update_metadata(feature_class_path,metadata_title,metadata_tags,metadata_summary,metadata_description,metadata_credits,metadata_theme_keywords,metadata_place_keywords)

#Reset workspace to the gdb level
arcpy.env.workspace = gdb_path
    
#List and update metadata title for feature classes directly under the gdb
feature_classes = arcpy.ListFeatureClasses()
for feature_class in feature_classes:
    feature_class_path = os.path.join(gdb_path, feature_class)
    
    update_metadata(feature_class_path,metadata_title,metadata_tags,metadata_summary,metadata_description,metadata_credits,metadata_theme_keywords,metadata_place_keywords)

#List and update metadata title for nonspatial tables
tables = arcpy.ListTables()
for table in tables:
    table_path = os.path.join(gdb_path, table)
    update_metadata(table_path,metadata_title,metadata_tags,metadata_summary,metadata_description,metadata_credits,metadata_theme_keywords,metadata_place_keywords)
    
print("Complete")
